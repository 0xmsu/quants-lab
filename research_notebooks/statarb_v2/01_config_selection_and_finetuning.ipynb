{
 "cells": [
  {
   "metadata": {},
   "cell_type": "code",
   "source": [
    "import logging\n",
    "import os\n",
    "import sys\n",
    "import time\n",
    "from datetime import datetime\n",
    "from dotenv import load_dotenv\n",
    "\n",
    "logging.basicConfig(level=logging.INFO)\n",
    "logging.getLogger(\"asyncio\").setLevel(logging.CRITICAL)\n",
    "load_dotenv()\n",
    "\n",
    "root_path = os.path.abspath(os.path.join(os.getcwd(), '../..'))\n",
    "sys.path.append(root_path)\n",
    "from core.data_sources.clob import CLOBDataSource\n",
    "from core.services.mongodb_client import MongoClient\n",
    "from core.services.backend_api_client import BackendAPIClient\n",
    "import research_notebooks.statarb_v2.stat_arb_performance_utils as utils\n",
    "\n",
    "# Initialize clients\n",
    "clob = CLOBDataSource()\n",
    "mongo_uri = (\n",
    "    f\"mongodb://{os.getenv('MONGO_INITDB_ROOT_USERNAME', 'admin')}:\"\n",
    "    f\"{os.getenv('MONGO_INITDB_ROOT_PASSWORD', 'admin')}@\"\n",
    "    f\"{os.getenv('MONGO_HOST', 'localhost')}:\"\n",
    "    f\"{os.getenv('MONGO_PORT', '27017')}/\"\n",
    ")\n",
    "mongo_client = MongoClient(\n",
    "    uri=mongo_uri,\n",
    "    database=\"quants_lab\"\n",
    ")\n",
    "connector_name = \"binance_perpetual\"\n",
    "CONNECTOR_INSTANCE = clob.get_connector(connector_name)\n",
    "await CONNECTOR_INSTANCE._update_trading_rules()\n",
    "\n",
    "# Connect to MongoDB\n",
    "await mongo_client.connect()"
   ],
   "outputs": [],
   "execution_count": null
  },
  {
   "metadata": {},
   "cell_type": "markdown",
   "source": [
    "# Stat Arb Deploy Tool Demo\n",
    "\n",
    "This notebook demonstrates the usage of the Stat Arb Deploy Tool methods."
   ]
  },
  {
   "cell_type": "markdown",
   "metadata": {},
   "source": [
    "## Fetch Controller Configs and Candles"
   ]
  },
  {
   "cell_type": "code",
   "metadata": {},
   "source": [
    "# Parameters\n",
    "days_to_download = 4\n",
    "interval = \"15m\"\n",
    "last_24h = time.time() - 1.5 * 24 * 60 * 60\n",
    "\n",
    "# Fetch controller configs\n",
    "controller_configs_data = await mongo_client.get_controller_config_data(min_timestamp=last_24h)\n",
    "\n",
    "# Get exchange trading pairs\n",
    "trading_rules = await clob.get_trading_rules(connector_name)\n",
    "ex_trading_pairs = [trading_rule.trading_pair for trading_rule in trading_rules.data]\n",
    "\n",
    "# Get trading pairs\n",
    "base_trading_pairs = [config[\"config\"][\"base_trading_pair\"] for config in controller_configs_data]\n",
    "quote_trading_pairs = [config[\"config\"][\"quote_trading_pair\"] for config in controller_configs_data]\n",
    "trading_pairs = [trading_pair for trading_pair in list(set(base_trading_pairs + quote_trading_pairs)) if trading_pair in ex_trading_pairs]\n",
    "\n",
    "rate_limit_config = {\n",
    "    \"okx_perpetual\": {\n",
    "        \"batch_size\": 3,\n",
    "        \"sleep_time\": 10\n",
    "    },\n",
    "    \"binance_perpetual\": {\n",
    "        \"batch_size\": 60,\n",
    "        \"sleep_time\": 10,\n",
    "    },\n",
    "}\n",
    "\n",
    "# Fetch candles\n",
    "candles_list = await clob.get_candles_batch_last_days(\n",
    "    connector_name,\n",
    "    trading_pairs,\n",
    "    interval=interval,\n",
    "    days=days_to_download,\n",
    "    batch_size=rate_limit_config[connector_name][\"batch_size\"],\n",
    "    sleep_time=rate_limit_config[connector_name][\"sleep_time\"]\n",
    ")\n",
    "candles_dict = {candle.trading_pair: candle.data for candle in candles_list}"
   ],
   "outputs": [],
   "execution_count": null
  },
  {
   "cell_type": "markdown",
   "metadata": {},
   "source": [
    "## Apply Filters to Configs"
   ]
  },
  {
   "cell_type": "code",
   "metadata": {},
   "source": [
    "# Filter parameters\n",
    "filter_params = {\n",
    "    \"max_base_step\": 0.001,\n",
    "    \"max_quote_step\": 0.001,\n",
    "    \"min_grid_range_ratio\": 0.5,\n",
    "    \"max_grid_range_ratio\": 2.0,\n",
    "    \"max_entry_price_distance\": 0.5\n",
    "}\n",
    "\n",
    "# Apply filters to configs\n",
    "filtered_configs = []\n",
    "for config_data in controller_configs_data:\n",
    "    if config_data[\"config\"][\"base_trading_pair\"] not in ex_trading_pairs:\n",
    "        continue\n",
    "    if config_data[\"config\"][\"quote_trading_pair\"] not in ex_trading_pairs:\n",
    "        continue\n",
    "    config = config_data[\"config\"]\n",
    "    extra_info = config_data[\"extra_info\"]\n",
    "    base_candles = candles_dict[config[\"base_trading_pair\"]]\n",
    "    quote_candles = candles_dict[config[\"quote_trading_pair\"]]\n",
    "    \n",
    "    try:\n",
    "        meets_condition = await utils.apply_filters(\n",
    "            connector_instance=CONNECTOR_INSTANCE,\n",
    "            config=config,\n",
    "            base_candles=base_candles,\n",
    "            quote_candles=quote_candles,\n",
    "            **filter_params\n",
    "        )\n",
    "        if meets_condition:\n",
    "            filtered_configs.append({\n",
    "                \"config\": config,\n",
    "                \"base_candles\": base_candles,\n",
    "                \"quote_candles\": quote_candles,\n",
    "                \"extra_info\": extra_info\n",
    "            })\n",
    "    except Exception as e:\n",
    "        print(f\"Error processing config: {e}\")\n",
    "\n",
    "print(f\"Found {len(filtered_configs)} configs that meet the criteria\")"
   ],
   "outputs": [],
   "execution_count": null
  },
  {
   "cell_type": "markdown",
   "metadata": {},
   "source": [
    "## Visualize Filtered Configs"
   ]
  },
  {
   "cell_type": "code",
   "metadata": {},
   "source": [
    "import os\n",
    "\n",
    "top_configs = []\n",
    "\n",
    "# Iterate over filtered configs and create figures\n",
    "for i, config_data in enumerate(filtered_configs):\n",
    "    # Generate the base figure\n",
    "    fig = await utils.create_coint_figure(\n",
    "        connector_instance=CONNECTOR_INSTANCE,\n",
    "        controller_config=config_data[\"config\"],\n",
    "        base_candles=config_data[\"base_candles\"],\n",
    "        quote_candles=config_data[\"quote_candles\"],\n",
    "        extra_info=config_data[\"extra_info\"],\n",
    "        plot_prices=False\n",
    "    )\n",
    "\n",
    "    # Extract details\n",
    "    base_pair = config_data['config']['base_trading_pair']\n",
    "    quote_pair = config_data['config']['quote_trading_pair']\n",
    "    coint_value = config_data['extra_info']['coint_value']\n",
    "    rate_diff = config_data['extra_info']['rate_difference']\n",
    "\n",
    "    # Prepare annotation text\n",
    "    info_text = (f\"Config N°{i}<br>\"\n",
    "                 f\"Base: {base_pair}<br>\"\n",
    "                 f\"Quote: {quote_pair}<br>\"\n",
    "                 f\"Coint Value: {coint_value:.3f}<br>\"\n",
    "                 f\"Rate Diff: {rate_diff:.5f}%\")\n",
    "\n",
    "    fig.write_image(os.path.join(\"img\", f\"config_{i:03d}.jpg\"), format=\"jpg\", scale=3)"
   ],
   "outputs": [],
   "execution_count": null
  },
  {
   "metadata": {},
   "cell_type": "code",
   "source": [
    "selected_index = 3\n",
    "\n",
    "selected_config_data = filtered_configs[selected_index]\n",
    "\n",
    "config_to_deploy = selected_config_data[\"config\"].copy()\n",
    "extra_info = selected_config_data[\"extra_info\"].copy()\n",
    "base_trading_pair = config_to_deploy[\"base_trading_pair\"]\n",
    "quote_trading_pair = config_to_deploy[\"quote_trading_pair\"]\n",
    "\n",
    "if connector_name in [\"okx_perpetual\"]:\n",
    "    min_notionals_dict = {trading_rule.trading_pair: float(trading_rule.min_base_amount_increment) * candles_dict[trading_rule.trading_pair].close.iloc[-1] for trading_rule in trading_rules.data if candles_dict.get(trading_rule.trading_pair) is not None}\n",
    "else:\n",
    "    min_notionals_dict = {trading_rule.trading_pair: trading_rule.min_notional_size for trading_rule in trading_rules.data}\n",
    "\n",
    "config_to_deploy"
   ],
   "outputs": [],
   "execution_count": null
  },
  {
   "metadata": {},
   "cell_type": "code",
   "source": [
    "total_amount_quote = 1000.0\n",
    "min_spread_between_orders = 0.0004\n",
    "base_min_order_amount_quote = float(min_notionals_dict[base_trading_pair]) * 1.5\n",
    "quote_min_order_amount_quote = float(min_notionals_dict[quote_trading_pair]) * 1.5\n",
    "leverage = 50\n",
    "time_limit = 259200\n",
    "stop_loss = 0.1\n",
    "trailing_delta = 0.005\n",
    "take_profit = 0.008\n",
    "activation_price = 0.03\n",
    "\n",
    "now = datetime.now()\n",
    "year, iso_week, _ = now.isocalendar()\n",
    "formatted = f\"{year}||isoweek{iso_week}\"\n",
    "controller_id = f\"{connector_name}||{config_to_deploy['base_trading_pair']}||{config_to_deploy['quote_trading_pair']}||{formatted}\"\n",
    "tag = \"04\""
   ],
   "outputs": [],
   "execution_count": null
  },
  {
   "metadata": {},
   "cell_type": "code",
   "source": [
    "min_order_amount_quote = max(base_min_order_amount_quote, quote_min_order_amount_quote)\n",
    "config_to_deploy[\"id\"] = f\"{controller_id}_{tag}\"\n",
    "config_to_deploy[\"total_amount_quote\"] = total_amount_quote\n",
    "config_to_deploy[\"coerce_tp_to_step\"] = True\n",
    "config_to_deploy[\"grid_config_base\"][\"min_order_amount_quote\"] = min_order_amount_quote\n",
    "config_to_deploy[\"grid_config_quote\"][\"min_order_amount_quote\"] = min_order_amount_quote\n",
    "config_to_deploy[\"leverage\"] = leverage\n",
    "config_to_deploy[\"connector_name\"] = \"binance_perpetual\"  # TODO: restore\n",
    "config_to_deploy[\"min_spread_between_orders\"] = min_spread_between_orders / 100\n",
    "config_to_deploy[\"triple_barrier_config\"] = {\n",
    "    'stop_loss': stop_loss,\n",
    "    'take_profit': take_profit,\n",
    "    'time_limit': time_limit,\n",
    "    'trailing_stop': {'activation_price': activation_price, 'trailing_delta': trailing_delta}\n",
    "}"
   ],
   "outputs": [],
   "execution_count": null
  },
  {
   "metadata": {},
   "cell_type": "code",
   "source": "config_to_deploy",
   "outputs": [],
   "execution_count": null
  },
  {
   "metadata": {},
   "cell_type": "code",
   "source": [
    "base_candles = candles_dict[base_trading_pair]\n",
    "quote_candles = candles_dict[quote_trading_pair]\n",
    "\n",
    "# Create detailed figure\n",
    "detailed_fig = await utils.create_coint_figure(CONNECTOR_INSTANCE, config_to_deploy, base_candles, quote_candles, extra_info, plot_prices=True)\n",
    "detailed_fig.update_layout(height=800)"
   ],
   "outputs": [],
   "execution_count": null
  },
  {
   "metadata": {},
   "cell_type": "code",
   "source": [
    "backend_api_client = BackendAPIClient(host=os.getenv(\"BACKEND_API_SERVER\", \"localhost\"))\n",
    "\n",
    "top_configs = []\n",
    "msg = await backend_api_client.add_controller_config(config_to_deploy)\n",
    "print(msg)\n",
    "top_configs.append(config_to_deploy)"
   ],
   "outputs": [],
   "execution_count": null
  },
  {
   "metadata": {},
   "cell_type": "code",
   "source": "top_configs",
   "outputs": [],
   "execution_count": null
  },
  {
   "metadata": {},
   "cell_type": "code",
   "source": [
    "await backend_api_client.deploy_script_with_controllers(bot_name=f\"{connector_name}-ts-{iso_week}-{tag}\",\n",
    "                                                        controller_configs=[config[\"id\"] + \".yml\" for config in top_configs],\n",
    "                                                        script_name=\"v2_with_controllers.py\",\n",
    "                                                        image_name=\"hummingbot/hummingbot:latest\",\n",
    "                                                        credentials=\"binance-ts-drupman\",\n",
    "                                                        time_to_cash_out=None,\n",
    "                                                        max_global_drawdown=None,\n",
    "                                                        max_controller_drawdown=None)"
   ],
   "outputs": [],
   "execution_count": null
  },
  {
   "metadata": {},
   "cell_type": "code",
   "source": [
    "# TODO: live performance\n",
    "# TODO: archive"
   ],
   "outputs": [],
   "execution_count": null
  }
 ],
 "metadata": {
  "kernelspec": {
   "display_name": "Python 3",
   "language": "python",
   "name": "python3"
  },
  "language_info": {
   "codemirror_mode": {
    "name": "ipython",
    "version": 3
   },
   "file_extension": ".py",
   "mimetype": "text/x-python",
   "name": "python",
   "nbconvert_exporter": "python",
   "pygments_lexer": "ipython3",
   "version": "3.8.0"
  }
 },
 "nbformat": 4,
 "nbformat_minor": 4
}
